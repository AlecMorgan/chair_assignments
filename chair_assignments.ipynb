{
 "cells": [
  {
   "cell_type": "code",
   "execution_count": 4,
   "metadata": {},
   "outputs": [
    {
     "name": "stdout",
     "output_type": "stream",
     "text": [
      "0: David\n",
      "1: Mia\n",
      "2: Sherry\n",
      "3: Hussein\n",
      "4: Kevin\n",
      "5: Kayli\n",
      "6: Taeho\n",
      "7: Tara\n",
      "8: Alexander\n",
      "9: Alec\n",
      "10: Connor\n",
      "11: Jacob\n",
      "12: Pat\n",
      "13: Laura\n",
      "14: Natasha\n",
      "15: Mando\n",
      "16: Lee\n",
      "17: Anna\n",
      "18: Andy\n",
      "19: Alex\n",
      "20: John\n",
      "21: Lawrence\n",
      "22: Werlindo\n"
     ]
    }
   ],
   "source": [
    "from random import randrange\n",
    "\n",
    "names = ['Alec', 'Alex', 'Alexander', 'Andy', 'Anna', 'Connor',\n",
    "         'David', 'Hussein', 'Jacob', 'John', 'Kayli', 'Kevin',\n",
    "         'Laura', 'Lawrence', 'Lee', 'Mando', 'Mia', 'Natasha',\n",
    "         'Pat', 'Sherry', 'Taeho', 'Tara', 'Werlindo']\n",
    "\n",
    "i = 0\n",
    "while i < 100:\n",
    "    index = randrange(22)\n",
    "    name_to_move = names[index]\n",
    "    del names[index]\n",
    "    names.append(name_to_move)\n",
    "    \n",
    "    i += 1\n",
    "\n",
    "    \n",
    "for i, name in enumerate(names):\n",
    "    print(str(i)+':', name) "
   ]
  },
  {
   "cell_type": "code",
   "execution_count": null,
   "metadata": {},
   "outputs": [],
   "source": []
  }
 ],
 "metadata": {
  "kernelspec": {
   "display_name": "Python 3",
   "language": "python",
   "name": "python3"
  },
  "language_info": {
   "codemirror_mode": {
    "name": "ipython",
    "version": 3
   },
   "file_extension": ".py",
   "mimetype": "text/x-python",
   "name": "python",
   "nbconvert_exporter": "python",
   "pygments_lexer": "ipython3",
   "version": "3.7.1"
  }
 },
 "nbformat": 4,
 "nbformat_minor": 2
}
