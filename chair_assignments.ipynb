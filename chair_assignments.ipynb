{
 "cells": [
  {
   "cell_type": "code",
   "execution_count": 12,
   "metadata": {},
   "outputs": [
    {
     "name": "stdout",
     "output_type": "stream",
     "text": [
      "0: Mia\n",
      "6: Tara\n",
      "7: David\n",
      "8: Pat\n",
      "9: Connor\n",
      "10: Jacob\n",
      "11: Lawrence\n",
      "12: Kevin\n",
      "13: John\n",
      "14: Werlindo\n",
      "15: Sherry\n",
      "16: Alex\n",
      "17: Mando\n",
      "18: Lee\n",
      "19: Taeho\n",
      "20: Kayli\n",
      "21: Hussein\n",
      "22: Alec\n"
     ]
    }
   ],
   "source": [
    "from random import randrange\n",
    "\n",
    "def shuffle_names(names):\n",
    "    i = 0\n",
    "    while i < 100:\n",
    "        index = randrange(len(names))\n",
    "        name_to_move = names[index]\n",
    "        del names[index]\n",
    "        names.append(name_to_move)\n",
    "    \n",
    "        i += 1\n",
    "        \n",
    "    return names\n",
    "\n",
    "\n",
    "#Names and seats that are NOT shuffled are excluded from the list.\n",
    "names = ['Alec', 'Alex', 'Connor', 'David', 'Hussein', 'Jacob', \n",
    "         'John', 'Kayli', 'Kevin', 'Lawrence', 'Lee', 'Mando', \n",
    "         'Mia', 'Pat', 'Sherry', 'Taeho', 'Tara', 'Werlindo']\n",
    "chairs = [0, 6, 7, 8, 9, 10, 11, 12, 13, 14, 15, 16, 17, 18, 19, 20, 21, 22, 23]\n",
    "\n",
    "names = shuffle_names(names)\n",
    "\n",
    "\n",
    "for i, name in enumerate(names):\n",
    "    print('{}: {}'.format(str(chairs[i]), name))"
   ]
  },
  {
   "cell_type": "code",
   "execution_count": null,
   "metadata": {},
   "outputs": [],
   "source": []
  }
 ],
 "metadata": {
  "kernelspec": {
   "display_name": "Python 3",
   "language": "python",
   "name": "python3"
  },
  "language_info": {
   "codemirror_mode": {
    "name": "ipython",
    "version": 3
   },
   "file_extension": ".py",
   "mimetype": "text/x-python",
   "name": "python",
   "nbconvert_exporter": "python",
   "pygments_lexer": "ipython3",
   "version": "3.7.1"
  }
 },
 "nbformat": 4,
 "nbformat_minor": 2
}
